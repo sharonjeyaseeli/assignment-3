{
 "cells": [
  {
   "cell_type": "code",
   "execution_count": 12,
   "id": "8ceb970f",
   "metadata": {},
   "outputs": [
    {
     "name": "stdout",
     "output_type": "stream",
     "text": [
      "5\n",
      "8\n",
      "2\n",
      "3\n",
      "0\n",
      "7\n",
      "sample list:\n",
      "(8, 2, 3, 0, 7)\n",
      "expected output:\n"
     ]
    },
    {
     "data": {
      "text/plain": [
       "20"
      ]
     },
     "execution_count": 12,
     "metadata": {},
     "output_type": "execute_result"
    }
   ],
   "source": [
    "l=[]\n",
    "for i in range (int(input())):\n",
    "    a=int(input())\n",
    "    l.append(a)\n",
    "    x=tuple(l)\n",
    "print(\"sample list:\")\n",
    "print(x)\n",
    "def sum():\n",
    "    total=0\n",
    "    for i in l:\n",
    "        total+=i\n",
    "    print(\"expected output:\")\n",
    "    return total\n",
    "sum()\n",
    "\n",
    "    \n"
   ]
  },
  {
   "cell_type": "code",
   "execution_count": 11,
   "id": "ba10c56a",
   "metadata": {},
   "outputs": [
    {
     "name": "stdout",
     "output_type": "stream",
     "text": [
      "expected output:\n"
     ]
    },
    {
     "data": {
      "text/plain": [
       "20"
      ]
     },
     "execution_count": 11,
     "metadata": {},
     "output_type": "execute_result"
    }
   ],
   "source": [
    "def sum():\n",
    "    total=0\n",
    "    for i in l:\n",
    "        total+=i\n",
    "    print(\"expected output:\")\n",
    "    return total\n",
    "sum()\n"
   ]
  },
  {
   "cell_type": "code",
   "execution_count": 21,
   "id": "91e3d914",
   "metadata": {},
   "outputs": [
    {
     "data": {
      "text/plain": [
       "'dcba4321'"
      ]
     },
     "execution_count": 21,
     "metadata": {},
     "output_type": "execute_result"
    }
   ],
   "source": [
    "s=\"1234abcd\"\n",
    "def reverse():\n",
    "    a=s[::-1]\n",
    "    return a\n",
    "reverse()\n",
    "    "
   ]
  },
  {
   "cell_type": "code",
   "execution_count": 32,
   "id": "f911b0b2",
   "metadata": {},
   "outputs": [
    {
     "name": "stdout",
     "output_type": "stream",
     "text": [
      "The number of lowercase characters is:\n",
      "12\n",
      "The number of uppercase characters is:\n",
      "3\n"
     ]
    }
   ],
   "source": [
    "string=\"The quick Brow Fox\"\n",
    "count1=0\n",
    "count2=0\n",
    "for i in string:\n",
    "      if(i.islower()):\n",
    "            count1=count1+1\n",
    "      elif(i.isupper()):\n",
    "            count2=count2+1\n",
    "print(\"The number of lowercase characters is:\")\n",
    "print(count1)\n",
    "print(\"The number of uppercase characters is:\")\n",
    "print(count2)\n"
   ]
  },
  {
   "cell_type": "code",
   "execution_count": 50,
   "id": "b606f3b8",
   "metadata": {},
   "outputs": [
    {
     "name": "stdout",
     "output_type": "stream",
     "text": [
      "The number of lowercase characters is: 12\n",
      "The number of uppercase characters is: 3\n"
     ]
    }
   ],
   "source": [
    "\n",
    "def case(string):\n",
    "    count1=0\n",
    "    count2=0\n",
    "    for i in string:\n",
    "        if(i.islower()):\n",
    "            count1=count1+1\n",
    "        elif(i.isupper()):\n",
    "            count2=count2+1\n",
    "    print(\"The number of lowercase characters is:\",count1)\n",
    "    print(\"The number of uppercase characters is:\",count2)\n",
    "case(\"The quick Brow Fox\")\n"
   ]
  },
  {
   "cell_type": "code",
   "execution_count": null,
   "id": "66f27db0",
   "metadata": {},
   "outputs": [],
   "source": []
  },
  {
   "cell_type": "code",
   "execution_count": null,
   "id": "cb0249a7",
   "metadata": {},
   "outputs": [],
   "source": []
  }
 ],
 "metadata": {
  "kernelspec": {
   "display_name": "Python 3 (ipykernel)",
   "language": "python",
   "name": "python3"
  },
  "language_info": {
   "codemirror_mode": {
    "name": "ipython",
    "version": 3
   },
   "file_extension": ".py",
   "mimetype": "text/x-python",
   "name": "python",
   "nbconvert_exporter": "python",
   "pygments_lexer": "ipython3",
   "version": "3.10.2"
  }
 },
 "nbformat": 4,
 "nbformat_minor": 5
}
